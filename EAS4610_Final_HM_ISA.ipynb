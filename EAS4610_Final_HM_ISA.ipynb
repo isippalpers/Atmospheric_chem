{
  "nbformat": 4,
  "nbformat_minor": 0,
  "metadata": {
    "colab": {
      "provenance": [],
      "include_colab_link": true
    },
    "kernelspec": {
      "name": "python3",
      "display_name": "Python 3"
    },
    "language_info": {
      "name": "python"
    }
  },
  "cells": [
    {
      "cell_type": "markdown",
      "metadata": {
        "id": "view-in-github",
        "colab_type": "text"
      },
      "source": [
        "<a href=\"https://colab.research.google.com/github/isippalpers/Atmospheric_chem/blob/main/EAS4610_Final_HM_ISA.ipynb\" target=\"_parent\"><img src=\"https://colab.research.google.com/assets/colab-badge.svg\" alt=\"Open In Colab\"/></a>"
      ]
    },
    {
      "cell_type": "markdown",
      "source": [
        "Video Walkthrough: www.url.com\n",
        "# Introduction\n",
        "\n",
        "### Main Theme\n",
        "The primary focus of this study is to understand the dynamics of the jet stream under zonally asymmetric thermal forcing, specifically solving the second-order partial differential equation presented in PNAS, 2022 (Equation 1). This equation describes the interaction of vertical velocity gradients, thermal forcing, and dissipation effects. The relationship between these parameters is important when modeling the amplitude of jet stream troughs and ridges.\n",
        "\n",
        "Understanding the amplitude and propagation of troughs and ridges is critical due to their role in midlatitude climate patterns. The strength and amplitude of the jet stream is detirmined by the temperature gradient between the equator and polar regions. Under global warming, a more amplified jet with more high latitude blocking could exacerbate flooding, droughts, and heatwaves. Unlike prior studies using idealized barotropic models or purely observational datasets, this project employs a numerical approach to solve the provided equation, which incorporates surface thermal forcing effects and dissipation terms not previously analyzed in detail.\n",
        "### Observations, Models, and Methods Used by Others\n",
        "\n",
        "Several studies in the literature have explored jet stream dynamics and the influence of thermal forcing through various approaches. Here, we highlight how these differ from the methodology and scope of this project:\n",
        "\n",
        "1. **Observational Studies**  \n",
        "   Observational analyses, such as those using satellite data and reanalysis datasets (e.g., ERA5, NCEP/NCAR), have been widely used to study jet stream behavior. These studies focus on identifying historical trends in jet stream behavior, such as shifts in position, changes in amplitude, and persistence of troughs and ridges. While observational data provide empirical evidence of jet stream variability, they are limited by their inability to isolate specific physical mechanisms or predict future behavior under different forcing scenarios.\n",
        "\n",
        "2. **Idealized Barotropic Models**  \n",
        "   Some researchers have employed idealized models based on barotropic vorticity equations. These models are effective in capturing large-scale features of the jet stream but often neglect vertical structure and thermal forcing explicitly. Thermal wind in particular describes the vertical geostrophc wind sheer in the atmosphere and is one of the primary mechinisms for what drives the jet stream. Therefore, understanding the vertical profile of a jet streak is especially important. An example of this is that many models might use simplified parameterizations for the Coriolis effect and omit the vertical coupling between layers that is critical for understanding wave amplification mechanisms.\n",
        "\n",
        "3. **Fully Coupled Climate Models**  \n",
        "   Coupled general circulation models (GCMs), such as those used in CMIP experiments, incorporate a comprehensive set of physical processes, including radiative forcing, land-sea interactions, and ocean-atmosphere coupling. These models are powerful for assessing long-term climate trends but are computationally expensive and less suited for isolating specific processes, such as the effect of zonally asymmetric thermal forcing on jet stream waviness.\n",
        "\n",
        "4. **Linear Stability Analysis**  \n",
        "   Linear stability theory has also been applied to examine the conditions under which the jet stream becomes unstable and develops large-amplitude waves. These studies are useful for understanding thresholds of instability but often rely on simplified assumptions about atmospheric stratification and uniformity.\n",
        "\n",
        "### Differences from the Current Project\n",
        "\n",
        "This project adopts a **numerical solution approach** to directly solve a second-order partial differential equation governing vertical jet stream dynamics. Key distinctions include:\n",
        "- **Vertical Structure**: The equation explicitly includes terms representing vertical velocity gradients and dissipation, which are often approximated or excluded in simpler models.\n",
        "- **Thermal Forcing Representation**: Unlike observational studies or idealized models, this project incorporates a zonally asymmetric thermal forcing term, allowing for a more nuanced understanding of the surface forcing effects.\n",
        "- **Numerical Methods**: By employing the Gauss-Seidel Method scheme and pre-installed PDE solver on Python, this project balances stability and computational efficiency, which is not always achievable in fully coupled GCMs or linear analyses.\n",
        "\n",
        "In summary, while other approaches provide valuable insights into jet stream behavior, this project's methodology focuses on a process-level understanding of thermal forcing and dissipation effects using targeted numerical solutions. This distinguishes it from observational and climate modeling studies that prioritize broader atmospheric phenomena.\n",
        "\n",
        "# Equations\n",
        "\n",
        "The governing equation (Equation 1) is:\n",
        "\n",
        "$$\n",
        "\\frac{\\partial^2 \\phi_L}{\\partial z^2} - \\frac{1}{H} \\frac{\\partial \\phi_L}{\\partial z} + \\frac{\\beta_L S}{U} \\phi_L = -\\left(k_s + \\frac{1}{H}\\right)\\frac{Q_0}{U} F(x) e^{-k_s z},\n",
        "$$\n",
        "\n",
        "where:\n",
        "- $\\phi_L$: Streamfunction perturbation amplitude.\n",
        "- $z$: Vertical coordinate.\n",
        "- $H$: Scale height of the atmosphere.\n",
        "- $\\beta_L$: Meridional gradient of the Coriolis parameter.\n",
        "- $S$: Stability parameter.\n",
        "- $U$: Zonal wind velocity.\n",
        "- $k_s$: Decay rate constant.\n",
        "- $Q_0$: Surface thermal forcing amplitude.\n",
        "- $F(x)$: Function representing the horizontal distribution of forcing.\n",
        "\n",
        "### Assumptions\n",
        "1. Hydrostatic balance is assumed in the derivation.\n",
        "2. $F(x)$ varies sinusoidally to represent zonal thermal forcing.\n",
        "3. The medium is dry and adiabatic, excluding moisture feedback.\n",
        "\n",
        "### Boundary Conditions and Initial Conditions\n",
        "- Boundary conditions:\n",
        "  $$\n",
        "  \\phi_L(0) = 0, \\quad \\frac{\\partial \\phi_L}{\\partial z} \\bigg|_{z \\to \\infty} = 0\n",
        "  $$\n",
        "- Initial condition: Streamfunction perturbations are initially zero at all heights.\n",
        "\n",
        "---\n",
        "\n",
        "\n",
        "# Equations"
      ],
      "metadata": {
        "id": "aKQIf57OTEtB"
      }
    },
    {
      "cell_type": "markdown",
      "source": [],
      "metadata": {
        "id": "hA6XH1pXKE6G"
      }
    },
    {
      "cell_type": "code",
      "source": [
        "#defining parameters, boundary conditions, initial conditions\n",
        "#model code\n",
        "import numpy as np\n",
        "import matplotlib.pyplot as plt\n",
        "from scipy.sparse import diags\n",
        "from scipy.sparse.linalg import spsolve\n",
        "from scipy.linalg import lu\n",
        "\n",
        "# Parameters\n",
        "Nz = 100  # Number of z grid points\n",
        "Nx = 100  # Number of x grid points\n",
        "z_max = 1.0  # Maximum z (scaled for better matching)\n",
        "x_max = 2 * np.pi  # Period of cosine forcing\n",
        "dz = z_max / N_z\n",
        "dx = x_max / N_x\n",
        "\n",
        "# Given constants\n",
        "ks = 2.0       # Damping coefficient\n",
        "H = 0.5        # Scale height\n",
        "beta_L = 1.0   # Beta effect coefficient\n",
        "S = 1.0        # Stratification\n",
        "U = 1.5        # Background velocity\n",
        "Q0 = 3\n",
        "# Define parameters\n",
        "Lx = 2 * np.pi  # Domain length in x\n",
        "Lz = 1.0        # Domain height in z\n",
        "G = lambda x: np.sin(2 * x)/2  # Forcing function G(x)"
      ],
      "metadata": {
        "id": "O38t6l-8UXCX"
      },
      "execution_count": null,
      "outputs": []
    },
    {
      "cell_type": "markdown",
      "source": [
        "### Assumptions\n",
        "~~\n",
        "\n",
        "# Numerical Methods\n",
        "~~ (why did we choose these methods)"
      ],
      "metadata": {
        "id": "myGzB3y_-P1g"
      }
    },
    {
      "cell_type": "code",
      "source": [
        "# Discretization\n",
        "dx = Lx / Nx\n",
        "dz = Lz / Nz\n",
        "x = np.linspace(0, Lx, Nx)\n",
        "z = np.linspace(0, Lz, Nz)\n",
        "X, Z = np.meshgrid(x, z)\n",
        "\n",
        "D1diags = np.array([1/dz**2, -2/dz**2, 1/dz**2])\n",
        "D2diags = np.array([-1/dz**2, 1/dz**2])\n",
        "\n",
        "diags1 = np.array([-1,0,1])\n",
        "diags2 = np.array([-1,0])\n",
        "\n",
        "D1 = diags(D1diags, diags1, shape=(Nx, Nx)).toarray()\n",
        "D2 = diags(D2diags, diags2, shape=(Nx, Nx)).toarray()*-1/H\n",
        "c = beta_L+S/U\n",
        "D3 = c*np.eye(Nx)\n",
        "A = D1 + D2 + D3\n",
        "P, L, Umat = lu(A)\n",
        "x0 = np.ones([Nx,1])\n"
      ],
      "metadata": {
        "id": "cjFqg60kQBUV"
      },
      "execution_count": null,
      "outputs": []
    },
    {
      "cell_type": "code",
      "source": [
        "answermatrix = np.ones([Nx,Nz])*np.nan\n",
        "for j in range(1,Nz):\n",
        "    b = -1*(ks+1/H)*Q0*G(x)*np.exp(-ks*z[j])\n",
        "    Linv = -1*np.linalg.inv(L)\n",
        "    T = Linv@Umat\n",
        "    c = -1 * Linv@b\n",
        "    for it_count in range(1, 1000):\n",
        "        x_new = np.zeros_like(x0, dtype=np.float_)\n",
        "        for i in range(A.shape[0]):\n",
        "            s1 = np.dot(A[i, :i], x_new[:i])\n",
        "            s2 = np.dot(A[i, i + 1 :], x0[i + 1 :])\n",
        "            x_new[i] = (b[i] - s1 - s2) / A[i, i]\n",
        "        if np.allclose(x0, x_new, rtol=1e-8):\n",
        "            break\n",
        "        x0 = x_new\n",
        "    answermatrix[:,j] = x_new[:,0]"
      ],
      "metadata": {
        "collapsed": true,
        "id": "ItRCs-FnTUCu"
      },
      "execution_count": null,
      "outputs": []
    },
    {
      "cell_type": "code",
      "source": [
        "np.shape(answermatrix)"
      ],
      "metadata": {
        "colab": {
          "base_uri": "https://localhost:8080/"
        },
        "id": "T0wgBjHaWmTa",
        "outputId": "2a87b4db-f589-4cb2-e808-a270c6f0cd0e"
      },
      "execution_count": null,
      "outputs": [
        {
          "output_type": "execute_result",
          "data": {
            "text/plain": [
              "(100, 100)"
            ]
          },
          "metadata": {},
          "execution_count": 99
        }
      ]
    },
    {
      "cell_type": "code",
      "source": [
        "X, Z = np.meshgrid(x, z)\n",
        "plt.contourf(X, Z, answermatrix.T, cmap='jet', levels=20)\n",
        "cbar = plt.colorbar(label='Geopotential Anomaly')\n",
        "cbar.ax.set_yticks([-0.05,0,0.05])\n",
        "plt.xlabel('x')\n",
        "plt.ylabel('z')\n",
        "plt.title('Geopotential Contour Plot')\n",
        "plt.show()"
      ],
      "metadata": {
        "colab": {
          "base_uri": "https://localhost:8080/",
          "height": 472
        },
        "id": "1U819slLTwt3",
        "outputId": "5c1eb05f-549d-41d7-eaae-7f85bc037f64"
      },
      "execution_count": null,
      "outputs": [
        {
          "output_type": "display_data",
          "data": {
            "text/plain": [
              "<Figure size 640x480 with 2 Axes>"
            ],
            "image/png": "[encoded data removed]"
          },
          "metadata": {}
        }
      ]
    },
    {
      "cell_type": "markdown",
      "source": [
        "# Results\n",
        "\n",
        "### Simulations we ran (and describe results)\n",
        "~~\n",
        "### How do results compare with known solutions\n",
        "~~\n",
        "### What did the model tell us about the process\n",
        "~~\n",
        "### How could model be improved w.r.t. methods or processes included?\n",
        "~~"
      ],
      "metadata": {
        "id": "SgvCKMnu-jTX"
      }
    },
    {
      "cell_type": "code",
      "source": [
        "# ≥4 figures\n",
        "#labeled axes, variable dimensions are defined"
      ],
      "metadata": {
        "id": "fL57h5wU_Ryq"
      },
      "execution_count": null,
      "outputs": []
    },
    {
      "cell_type": "markdown",
      "source": [
        "References:\n"
      ],
      "metadata": {
        "id": "Yz8FunM9_k9f"
      }
    }
  ]
}